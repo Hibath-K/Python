{
 "cells": [
  {
   "cell_type": "markdown",
   "metadata": {},
   "source": [
    "## Linear Algebra Quiz #3\n",
    "\n",
    "![title](./img/3_0.jpeg)\n",
    "\n",
    "We strongly suggest working with numpy :)"
   ]
  },
  {
   "cell_type": "code",
   "execution_count": 2,
   "metadata": {},
   "outputs": [],
   "source": [
    "#Do your imports here\n",
    "import numpy as np"
   ]
  },
  {
   "cell_type": "markdown",
   "metadata": {},
   "source": [
    "![title](./img/3_2.png\n",
    "Create a program that can output\n",
    "\n",
    "- What is the value of element c23​ of Matrix C where C=A x B ?\n",
    "- What is the value of element c23​ of Matrix C where C=B x A ?\n",
    "- Solution(https://www.loom.com/share/19c3bf6a87a74918bf31b2b85a778d34)\n"
   ]
  },
  {
   "cell_type": "code",
   "execution_count": 4,
   "metadata": {},
   "outputs": [],
   "source": [
    "# okay numpy is great: \n",
    "a = np.array([[3,1,2], [-5,4,1], [0,3,-8]])\n",
    "\n",
    "def inverse_matrix(A):\n",
    "    mat_inv = np.linalg.inv(A)\n",
    "    return mat_inv"
   ]
  },
  {
   "cell_type": "code",
   "execution_count": 5,
   "metadata": {},
   "outputs": [
    {
     "data": {
      "text/plain": [
       "array([[-2. ,  1. ],\n",
       "       [ 1.5, -0.5]])"
      ]
     },
     "execution_count": 5,
     "metadata": {},
     "output_type": "execute_result"
    }
   ],
   "source": [
    "b = np.array([[1., 2.], [3., 4.]])\n",
    "\n",
    "\n",
    "inverse_matrix(b)"
   ]
  },
  {
   "cell_type": "markdown",
   "metadata": {},
   "source": [
    "is it reasonable to do it by hand? Only if it is 2x2. If we want to scale it it is crazy\n",
    "[inverse matrix](https://integratedmlai.com/matrixinverse/)\n"
   ]
  },
  {
   "cell_type": "markdown",
   "metadata": {},
   "source": [
    "![title](./img/3_1.png)\n",
    "Create a program that can output\n",
    "\n",
    "- What is the value of the ijth element if i = 2 and j=3?\n",
    "- What is the value of the ijth element if i = 3 and j=1?\n",
    "- Solution (https://www.loom.com/share/45b5e8a0b9424222af0473cf432f6f12)"
   ]
  },
  {
   "cell_type": "code",
   "execution_count": 6,
   "metadata": {},
   "outputs": [],
   "source": [
    "# Just answer using code --> easy stuff!\n",
    "\n",
    "A = np.array([[3, 0.6, 4, -3],[-1.3,4,0,8.6],[7,0,-8,0.006]])\n",
    "B = np.array([[3, -5.76, 45, 0],[2, -2, 1.3 , 9],[-9, 0,0,0]])\n",
    "C = np.array([[0,1009, -66.7849, 90],[0,5,4,-0.07],[-7.7,0,0,0]])\n",
    "\n",
    "\n",
    "D = A + B - C\n"
   ]
  },
  {
   "cell_type": "code",
   "execution_count": 7,
   "metadata": {},
   "outputs": [
    {
     "data": {
      "text/plain": [
       "-2.7"
      ]
     },
     "execution_count": 7,
     "metadata": {},
     "output_type": "execute_result"
    }
   ],
   "source": [
    "D[1][2]"
   ]
  },
  {
   "cell_type": "code",
   "execution_count": 8,
   "metadata": {},
   "outputs": [
    {
     "data": {
      "text/plain": [
       "5.7"
      ]
     },
     "execution_count": 8,
     "metadata": {},
     "output_type": "execute_result"
    }
   ],
   "source": [
    "D[2][0]"
   ]
  },
  {
   "cell_type": "code",
   "execution_count": null,
   "metadata": {},
   "outputs": [],
   "source": [
    "\n",
    "# Harder\n",
    "# Can you build a matrix solver that can do output the result given 3 matrices and a sequence of operations such as [add subtract multiply transpose?]\n",
    "#Some ideas on valid operations: Multiplication Addition Subtraction Inverstion Transposed.\n",
    "# solution (https://www.loom.com/share/8f7f34b634f24392a0b646ec697b44c1)\n",
    "# Solution2 (https://www.loom.com/share/8a41c7b55767466ca63841d589a6444e=)"
   ]
  },
  {
   "source": [
    "Implement a matrix solver"
   ],
   "cell_type": "markdown",
   "metadata": {}
  },
  {
   "cell_type": "code",
   "execution_count": 6,
   "metadata": {},
   "outputs": [
    {
     "output_type": "execute_result",
     "data": {
      "text/plain": [
       "array([ 0.1, -0.9,  1.8])"
      ]
     },
     "metadata": {},
     "execution_count": 6
    }
   ],
   "source": [
    "A = np.array([[2, 0, 1], [1, 7, 4], [0, 0, 5]])\n",
    "B = np.array([2, 1, 9])\n",
    "\n",
    "np.linalg.solve(A,B)\n",
    "\n"
   ]
  },
  {
   "cell_type": "markdown",
   "metadata": {},
   "source": [
    "**numpy way** --> [numpy.linalg.solve](https://numpy.org/doc/stable/reference/generated/numpy.linalg.solve.html)"
   ]
  },
  {
   "cell_type": "markdown",
   "metadata": {},
   "source": [
    "![title](./img/3_3.png)\n",
    "Create a program that can output\n",
    "- How many rows will C have?\n",
    "- How many columns will C have?\n",
    "- What will be the value of c13​?\n",
    "- Solution (https://www.loom.com/share/9b39a21ac9054591bcbd976decf30275)\n",
    "A is shape (1, 5) B is shape (5, 3) so output is expected to be (1, 3)\n",
    "\n",
    "\n"
   ]
  },
  {
   "cell_type": "code",
   "execution_count": 14,
   "metadata": {},
   "outputs": [
    {
     "data": {
      "text/plain": [
       "array([-102.8,  255.2,  595.6])"
      ]
     },
     "execution_count": 14,
     "metadata": {},
     "output_type": "execute_result"
    }
   ],
   "source": [
    "AA = np.array([0.6,-15,2,5,98])\n",
    "BB = np.array([[2,2,-4],[9,-14,0],[13,-0.5,44],[1,9,4],[0,0,5]])\n",
    "\n",
    "CC = np.dot(AA.T, BB)\n",
    "CC"
   ]
  },
  {
   "cell_type": "code",
   "execution_count": 16,
   "metadata": {},
   "outputs": [
    {
     "data": {
      "text/plain": [
       "595.6"
      ]
     },
     "execution_count": 16,
     "metadata": {},
     "output_type": "execute_result"
    }
   ],
   "source": [
    "#value of C13\n",
    "\n",
    "CC[2]"
   ]
  },
  {
   "cell_type": "code",
   "execution_count": null,
   "metadata": {},
   "outputs": [],
   "source": []
  }
 ],
 "metadata": {
  "kernelspec": {
   "name": "python388jvsc74a57bd0c2ad988b83bc3032ab0bc6c9b326315d9b3145f093b7c28f6f9e14e1089dbd73",
   "display_name": "Python 3.8.8 64-bit ('NLP': conda)"
  },
  "language_info": {
   "codemirror_mode": {
    "name": "ipython",
    "version": 3
   },
   "file_extension": ".py",
   "mimetype": "text/x-python",
   "name": "python",
   "nbconvert_exporter": "python",
   "pygments_lexer": "ipython3",
   "version": "3.8.8"
  }
 },
 "nbformat": 4,
 "nbformat_minor": 2
}