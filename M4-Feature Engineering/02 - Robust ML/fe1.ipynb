{
 "cells": [
  {
   "cell_type": "markdown",
   "source": [
    "## Imports"
   ],
   "metadata": {}
  },
  {
   "cell_type": "code",
   "execution_count": 24,
   "source": [
    "# pip install --upgrade scikit-learn"
   ],
   "outputs": [],
   "metadata": {}
  },
  {
   "cell_type": "code",
   "execution_count": 1,
   "source": [
    "import time\r\n",
    "from IPython.display import clear_output\r\n",
    "import numpy    as np\r\n",
    "import pandas   as pd\r\n",
    "import seaborn  as sb\r\n",
    "import matplotlib.pyplot as plt\r\n",
    "import sklearn  as skl\r\n",
    "\r\n",
    "from sklearn import pipeline      # Pipeline\r\n",
    "from sklearn import preprocessing # OrdinalEncoder, LabelEncoder\r\n",
    "from sklearn import impute\r\n",
    "from sklearn import compose\r\n",
    "from sklearn import model_selection # train_test_split\r\n",
    "from sklearn import metrics         # accuracy_score, balanced_accuracy_score, plot_confusion_matrix\r\n",
    "from sklearn import set_config\r\n",
    "\r\n",
    "set_config(display='diagram') # Useful for display the pipeline\r\n",
    "\r\n",
    "print(\"Pandas  \", pd.__version__)\r\n",
    "print(\"Sklearn \", skl.__version__) # Try to use 0.24"
   ],
   "outputs": [
    {
     "output_type": "stream",
     "name": "stderr",
     "text": [
      "C:\\Users\\Jon\\.conda\\envs\\NLP\\lib\\site-packages\\numpy\\__init__.py:143: UserWarning: mkl-service package failed to import, therefore Intel(R) MKL initialization ensuring its correct out-of-the box operation under condition when Gnu OpenMP had already been loaded by Python process is not assured. Please install mkl-service package, see http://github.com/IntelPython/mkl-service\n",
      "  from . import _distributor_init\n"
     ]
    },
    {
     "output_type": "error",
     "ename": "ImportError",
     "evalue": "\n\nIMPORTANT: PLEASE READ THIS FOR ADVICE ON HOW TO SOLVE THIS ISSUE!\n\nImporting the numpy C-extensions failed. This error can happen for\nmany reasons, often due to issues with your setup or how NumPy was\ninstalled.\n\nWe have compiled some common reasons and troubleshooting tips at:\n\n    https://numpy.org/devdocs/user/troubleshooting-importerror.html\n\nPlease note and check the following:\n\n  * The Python version is: Python3.8 from \"C:\\Users\\Jon\\.conda\\envs\\NLP\\python.exe\"\n  * The NumPy version is: \"1.20.2\"\n\nand make sure that they are the versions you expect.\nPlease carefully study the documentation linked above for further help.\n\nOriginal error was: DLL load failed while importing _multiarray_umath: The specified module could not be found.\n",
     "traceback": [
      "\u001b[1;31m---------------------------------------------------------------------------\u001b[0m",
      "\u001b[1;31mImportError\u001b[0m                               Traceback (most recent call last)",
      "\u001b[1;32m~\\.conda\\envs\\NLP\\lib\\site-packages\\numpy\\core\\__init__.py\u001b[0m in \u001b[0;36m<module>\u001b[1;34m\u001b[0m\n\u001b[0;32m     21\u001b[0m \u001b[1;32mtry\u001b[0m\u001b[1;33m:\u001b[0m\u001b[1;33m\u001b[0m\u001b[1;33m\u001b[0m\u001b[0m\n\u001b[1;32m---> 22\u001b[1;33m     \u001b[1;32mfrom\u001b[0m \u001b[1;33m.\u001b[0m \u001b[1;32mimport\u001b[0m \u001b[0mmultiarray\u001b[0m\u001b[1;33m\u001b[0m\u001b[1;33m\u001b[0m\u001b[0m\n\u001b[0m\u001b[0;32m     23\u001b[0m \u001b[1;32mexcept\u001b[0m \u001b[0mImportError\u001b[0m \u001b[1;32mas\u001b[0m \u001b[0mexc\u001b[0m\u001b[1;33m:\u001b[0m\u001b[1;33m\u001b[0m\u001b[1;33m\u001b[0m\u001b[0m\n",
      "\u001b[1;32m~\\.conda\\envs\\NLP\\lib\\site-packages\\numpy\\core\\multiarray.py\u001b[0m in \u001b[0;36m<module>\u001b[1;34m\u001b[0m\n\u001b[0;32m     11\u001b[0m \u001b[1;33m\u001b[0m\u001b[0m\n\u001b[1;32m---> 12\u001b[1;33m \u001b[1;32mfrom\u001b[0m \u001b[1;33m.\u001b[0m \u001b[1;32mimport\u001b[0m \u001b[0moverrides\u001b[0m\u001b[1;33m\u001b[0m\u001b[1;33m\u001b[0m\u001b[0m\n\u001b[0m\u001b[0;32m     13\u001b[0m \u001b[1;32mfrom\u001b[0m \u001b[1;33m.\u001b[0m \u001b[1;32mimport\u001b[0m \u001b[0m_multiarray_umath\u001b[0m\u001b[1;33m\u001b[0m\u001b[1;33m\u001b[0m\u001b[0m\n",
      "\u001b[1;32m~\\.conda\\envs\\NLP\\lib\\site-packages\\numpy\\core\\overrides.py\u001b[0m in \u001b[0;36m<module>\u001b[1;34m\u001b[0m\n\u001b[0;32m      6\u001b[0m \u001b[1;33m\u001b[0m\u001b[0m\n\u001b[1;32m----> 7\u001b[1;33m from numpy.core._multiarray_umath import (\n\u001b[0m\u001b[0;32m      8\u001b[0m     add_docstring, implement_array_function, _get_implementing_args)\n",
      "\u001b[1;31mImportError\u001b[0m: DLL load failed while importing _multiarray_umath: The specified module could not be found.",
      "\nDuring handling of the above exception, another exception occurred:\n",
      "\u001b[1;31mImportError\u001b[0m                               Traceback (most recent call last)",
      "\u001b[1;32m<ipython-input-1-07334abf5f29>\u001b[0m in \u001b[0;36m<module>\u001b[1;34m\u001b[0m\n\u001b[0;32m      1\u001b[0m \u001b[1;32mimport\u001b[0m \u001b[0mtime\u001b[0m\u001b[1;33m\u001b[0m\u001b[1;33m\u001b[0m\u001b[0m\n\u001b[0;32m      2\u001b[0m \u001b[1;32mfrom\u001b[0m \u001b[0mIPython\u001b[0m\u001b[1;33m.\u001b[0m\u001b[0mdisplay\u001b[0m \u001b[1;32mimport\u001b[0m \u001b[0mclear_output\u001b[0m\u001b[1;33m\u001b[0m\u001b[1;33m\u001b[0m\u001b[0m\n\u001b[1;32m----> 3\u001b[1;33m \u001b[1;32mimport\u001b[0m \u001b[0mnumpy\u001b[0m    \u001b[1;32mas\u001b[0m \u001b[0mnp\u001b[0m\u001b[1;33m\u001b[0m\u001b[1;33m\u001b[0m\u001b[0m\n\u001b[0m\u001b[0;32m      4\u001b[0m \u001b[1;32mimport\u001b[0m \u001b[0mpandas\u001b[0m   \u001b[1;32mas\u001b[0m \u001b[0mpd\u001b[0m\u001b[1;33m\u001b[0m\u001b[1;33m\u001b[0m\u001b[0m\n\u001b[0;32m      5\u001b[0m \u001b[1;32mimport\u001b[0m \u001b[0mseaborn\u001b[0m  \u001b[1;32mas\u001b[0m \u001b[0msb\u001b[0m\u001b[1;33m\u001b[0m\u001b[1;33m\u001b[0m\u001b[0m\n",
      "\u001b[1;32m~\\.conda\\envs\\NLP\\lib\\site-packages\\numpy\\__init__.py\u001b[0m in \u001b[0;36m<module>\u001b[1;34m\u001b[0m\n\u001b[0;32m    143\u001b[0m     \u001b[1;32mfrom\u001b[0m \u001b[1;33m.\u001b[0m \u001b[1;32mimport\u001b[0m \u001b[0m_distributor_init\u001b[0m\u001b[1;33m\u001b[0m\u001b[1;33m\u001b[0m\u001b[0m\n\u001b[0;32m    144\u001b[0m \u001b[1;33m\u001b[0m\u001b[0m\n\u001b[1;32m--> 145\u001b[1;33m     \u001b[1;32mfrom\u001b[0m \u001b[1;33m.\u001b[0m \u001b[1;32mimport\u001b[0m \u001b[0mcore\u001b[0m\u001b[1;33m\u001b[0m\u001b[1;33m\u001b[0m\u001b[0m\n\u001b[0m\u001b[0;32m    146\u001b[0m     \u001b[1;32mfrom\u001b[0m \u001b[1;33m.\u001b[0m\u001b[0mcore\u001b[0m \u001b[1;32mimport\u001b[0m \u001b[1;33m*\u001b[0m\u001b[1;33m\u001b[0m\u001b[1;33m\u001b[0m\u001b[0m\n\u001b[0;32m    147\u001b[0m     \u001b[1;32mfrom\u001b[0m \u001b[1;33m.\u001b[0m \u001b[1;32mimport\u001b[0m \u001b[0mcompat\u001b[0m\u001b[1;33m\u001b[0m\u001b[1;33m\u001b[0m\u001b[0m\n",
      "\u001b[1;32m~\\.conda\\envs\\NLP\\lib\\site-packages\\numpy\\core\\__init__.py\u001b[0m in \u001b[0;36m<module>\u001b[1;34m\u001b[0m\n\u001b[0;32m     46\u001b[0m \"\"\" % (sys.version_info[0], sys.version_info[1], sys.executable,\n\u001b[0;32m     47\u001b[0m         __version__, exc)\n\u001b[1;32m---> 48\u001b[1;33m     \u001b[1;32mraise\u001b[0m \u001b[0mImportError\u001b[0m\u001b[1;33m(\u001b[0m\u001b[0mmsg\u001b[0m\u001b[1;33m)\u001b[0m\u001b[1;33m\u001b[0m\u001b[1;33m\u001b[0m\u001b[0m\n\u001b[0m\u001b[0;32m     49\u001b[0m \u001b[1;32mfinally\u001b[0m\u001b[1;33m:\u001b[0m\u001b[1;33m\u001b[0m\u001b[1;33m\u001b[0m\u001b[0m\n\u001b[0;32m     50\u001b[0m     \u001b[1;32mfor\u001b[0m \u001b[0menvkey\u001b[0m \u001b[1;32min\u001b[0m \u001b[0menv_added\u001b[0m\u001b[1;33m:\u001b[0m\u001b[1;33m\u001b[0m\u001b[1;33m\u001b[0m\u001b[0m\n",
      "\u001b[1;31mImportError\u001b[0m: \n\nIMPORTANT: PLEASE READ THIS FOR ADVICE ON HOW TO SOLVE THIS ISSUE!\n\nImporting the numpy C-extensions failed. This error can happen for\nmany reasons, often due to issues with your setup or how NumPy was\ninstalled.\n\nWe have compiled some common reasons and troubleshooting tips at:\n\n    https://numpy.org/devdocs/user/troubleshooting-importerror.html\n\nPlease note and check the following:\n\n  * The Python version is: Python3.8 from \"C:\\Users\\Jon\\.conda\\envs\\NLP\\python.exe\"\n  * The NumPy version is: \"1.20.2\"\n\nand make sure that they are the versions you expect.\nPlease carefully study the documentation linked above for further help.\n\nOriginal error was: DLL load failed while importing _multiarray_umath: The specified module could not be found.\n"
     ]
    }
   ],
   "metadata": {
    "colab": {},
    "colab_type": "code",
    "id": "mjnuJ19dJV7v"
   }
  },
  {
   "cell_type": "markdown",
   "source": [
    "## Get the dataset\n",
    "- **CLOUD = True**: Download dataset from Kaggle. Necesary for cloud enviroments like COLAB. **Specify your [kaggle credentials](https://www.kaggle.com/docs/api)**.\n",
    "- **CLOUD = False**: Get the dataset from your local machine. **Specify the data path**."
   ],
   "metadata": {}
  },
  {
   "cell_type": "code",
   "execution_count": 26,
   "source": [
    "DATA_PATH = \"../../Datasets/Tabular/titanic/\""
   ],
   "outputs": [],
   "metadata": {}
  },
  {
   "cell_type": "markdown",
   "source": [
    "## Load data"
   ],
   "metadata": {}
  },
  {
   "cell_type": "code",
   "execution_count": 27,
   "source": [
    "df      = pd.read_csv(DATA_PATH + \"train.csv\", index_col='PassengerId')\r\n",
    "df_test = pd.read_csv(DATA_PATH + \"test.csv\",  index_col='PassengerId')\r\n",
    "\r\n",
    "print(\"Train DataFrame:\", df.shape)\r\n",
    "print(\"Test DataFrame: \", df_test.shape)"
   ],
   "outputs": [
    {
     "output_type": "stream",
     "name": "stdout",
     "text": [
      "Train DataFrame: (891, 11)\n",
      "Test DataFrame:  (418, 10)\n"
     ]
    }
   ],
   "metadata": {
    "colab": {},
    "colab_type": "code",
    "id": "wAy8TnVPJV8S"
   }
  },
  {
   "cell_type": "markdown",
   "source": [
    "## Check missings"
   ],
   "metadata": {}
  },
  {
   "cell_type": "code",
   "execution_count": 28,
   "source": [
    "# df.isnull().sum()"
   ],
   "outputs": [],
   "metadata": {}
  },
  {
   "cell_type": "code",
   "execution_count": 29,
   "source": [
    "# df_test.isnull().sum()"
   ],
   "outputs": [],
   "metadata": {}
  },
  {
   "cell_type": "markdown",
   "source": [
    "# Exercise 1 (2pts):\n",
    "Extract the title (Mr, Mrs, ... ) from the \"Name\" column.\n",
    "\n",
    "Tips:\n",
    "- split(',')[1] to get the 2nd part, and remove the surnamename\n",
    "- split('.')[0] to get the 1str part, and remove the name"
   ],
   "metadata": {}
  },
  {
   "cell_type": "code",
   "execution_count": 30,
   "source": [
    "# CODE HERE get_Title_from_Name funtion\r\n",
    "# Create this function using lambda (not def)\r\n"
   ],
   "outputs": [],
   "metadata": {
    "nbgrader": {
     "grade": false,
     "grade_id": "cell-d56107842f0f54d2",
     "locked": false,
     "schema_version": 3,
     "solution": true,
     "task": false
    }
   }
  },
  {
   "cell_type": "markdown",
   "source": [
    "# Exercise 2 (1pts):\n",
    "Apply the title_dictionary to get a better information about the title. You have to overwrite the Title variable."
   ],
   "metadata": {}
  },
  {
   "cell_type": "code",
   "execution_count": 32,
   "source": [
    "title_dictionary = {\r\n",
    "    \"Capt\": \"Officer\",\r\n",
    "    \"Col\": \"Officer\",\r\n",
    "    \"Major\": \"Officer\",\r\n",
    "    \"Jonkheer\": \"Royalty\",\r\n",
    "    \"Don\": \"Royalty\",\r\n",
    "    \"Sir\" : \"Royalty\",\r\n",
    "    \"Dr\": \"Officer\",\r\n",
    "    \"Rev\": \"Officer\",\r\n",
    "    \"the Countess\":\"Royalty\",\r\n",
    "    \"Mme\": \"Mrs\",\r\n",
    "    \"Mlle\": \"Miss\",\r\n",
    "    \"Ms\": \"Mrs\",\r\n",
    "    \"Mr\" : \"Mr\",\r\n",
    "    \"Mrs\" : \"Mrs\",\r\n",
    "    \"Miss\" : \"Miss\",\r\n",
    "    \"Master\" : \"Master\",\r\n",
    "    \"Lady\" : \"Royalty\"\r\n",
    "}"
   ],
   "outputs": [],
   "metadata": {}
  },
  {
   "cell_type": "code",
   "execution_count": 33,
   "source": [
    "# Use map to apply the prevous dict\r\n"
   ],
   "outputs": [],
   "metadata": {
    "nbgrader": {
     "grade": false,
     "grade_id": "cell-5c6a842c812fafda",
     "locked": false,
     "schema_version": 3,
     "solution": true,
     "task": false
    }
   }
  },
  {
   "cell_type": "markdown",
   "source": [
    "# Exercise OPTINAL (0pts):\n",
    "Try to extract some information from the feature **Ticket**. Search on Internet if that colum has some kind of information."
   ],
   "metadata": {}
  },
  {
   "cell_type": "code",
   "execution_count": 35,
   "source": [
    "df_test['Ticket']"
   ],
   "outputs": [
    {
     "output_type": "execute_result",
     "data": {
      "text/plain": [
       "PassengerId\n",
       "892                 330911\n",
       "893                 363272\n",
       "894                 240276\n",
       "895                 315154\n",
       "896                3101298\n",
       "               ...        \n",
       "1305             A.5. 3236\n",
       "1306              PC 17758\n",
       "1307    SOTON/O.Q. 3101262\n",
       "1308                359309\n",
       "1309                  2668\n",
       "Name: Ticket, Length: 418, dtype: object"
      ]
     },
     "metadata": {},
     "execution_count": 35
    }
   ],
   "metadata": {}
  },
  {
   "cell_type": "markdown",
   "source": [
    "# Exercise OPTIONAL (0pts):\n",
    "Try to extract some information from the feature **Cabin**. Search on Internet if that colum has some kind of information."
   ],
   "metadata": {}
  },
  {
   "cell_type": "code",
   "execution_count": 36,
   "source": [
    "df_test['Cabin']"
   ],
   "outputs": [
    {
     "output_type": "execute_result",
     "data": {
      "text/plain": [
       "PassengerId\n",
       "892      NaN\n",
       "893      NaN\n",
       "894      NaN\n",
       "895      NaN\n",
       "896      NaN\n",
       "        ... \n",
       "1305     NaN\n",
       "1306    C105\n",
       "1307     NaN\n",
       "1308     NaN\n",
       "1309     NaN\n",
       "Name: Cabin, Length: 418, dtype: object"
      ]
     },
     "metadata": {},
     "execution_count": 36
    }
   ],
   "metadata": {}
  },
  {
   "cell_type": "markdown",
   "source": [
    "# Preprocessing\n",
    "For X data, notice that...\n",
    "- We drop Survived because is the target variable\n",
    "- We drop Name because we have extracted the Title: Mr, Mrs, ...\n",
    "- We drop Ticket because it has no information -> see df.Ticket.nunique()\n",
    "- We drop Cabin because it has a lot of missings (77% are missings)\n",
    "\n",
    "Then, we identify **numerical** variables and **categorical** variables,"
   ],
   "metadata": {}
  },
  {
   "cell_type": "code",
   "execution_count": 37,
   "source": [],
   "outputs": [],
   "metadata": {}
  },
  {
   "cell_type": "code",
   "execution_count": 38,
   "source": [
    "cat_vars  = ['Sex', 'Embarked', 'Title']         # x.select_dtypes(include=[object]).columns.values.tolist()\r\n",
    "num_vars  = ['Pclass', 'SibSp', 'Parch', 'Fare', 'Age'] # x.select_dtypes(exclude=[object]).columns.values.tolist()\r\n",
    "\r\n",
    "print(\"\\nNumerical features:\\n\", num_vars)\r\n",
    "print(\"\\nCategorical features:\\n\", cat_vars)"
   ],
   "outputs": [
    {
     "output_type": "stream",
     "name": "stdout",
     "text": [
      "\n",
      "Numerical features:\n",
      " ['Pclass', 'SibSp', 'Parch', 'Fare', 'Age']\n",
      "\n",
      "Categorical features:\n",
      " ['Sex', 'Embarked', 'Title']\n"
     ]
    }
   ],
   "metadata": {}
  },
  {
   "cell_type": "markdown",
   "source": [
    "# Exercise 3 (2pts):\n",
    "Create a **ColumnTransformer for Tree Models**. You need to create 2 pipelines (one for numerical and other for categories). Remember:\n",
    "- Categorical pipeline: Some SimpleImputer -> Some Encoder\n",
    "- Numerical pipeline: Some SimpleImputer -> NO Encoder"
   ],
   "metadata": {}
  },
  {
   "cell_type": "code",
   "execution_count": 39,
   "source": [
    "\"\"\"\r\n",
    "num_preprocessing = pipeline.Pipeline(steps=[\r\n",
    "  # Some Imputer here\r\n",
    "])\r\n",
    "\r\n",
    "cat_preporcessing = pipeline.Pipeline(steps=[\r\n",
    "  # Some Imputer here\r\n",
    "  # Some Encoder here. Remember to handle_unknown\r\n",
    "])\r\n",
    "\r\n",
    "tree_prepro = compose.ColumnTransformer(transformers=[\r\n",
    "    numerical,\r\n",
    "    categorica\r\n",
    "],) # Drop other vars not specified in num_vars or cat_vars\r\n",
    "\r\n",
    "tree_prepro\r\n",
    "\"\"\"\r\n"
   ],
   "outputs": [
    {
     "output_type": "execute_result",
     "data": {
      "text/plain": [
       "ColumnTransformer(transformers=[('num',\n",
       "                                 Pipeline(steps=[('imputer', SimpleImputer())]),\n",
       "                                 ['Pclass', 'SibSp', 'Parch', 'Fare', 'Age']),\n",
       "                                ('cat',\n",
       "                                 Pipeline(steps=[('imputer',\n",
       "                                                  SimpleImputer(fill_value='missing',\n",
       "                                                                strategy='constant')),\n",
       "                                                 ('ordinal',\n",
       "                                                  OrdinalEncoder(handle_unknown='use_encoded_value',\n",
       "                                                                 unknown_value=10))]),\n",
       "                                 ['Sex', 'Embarked', 'Title'])])"
      ],
      "text/html": [
       "<style>#sk-c7312360-095f-437c-905e-4939beb6bd92 {color: black;background-color: white;}#sk-c7312360-095f-437c-905e-4939beb6bd92 pre{padding: 0;}#sk-c7312360-095f-437c-905e-4939beb6bd92 div.sk-toggleable {background-color: white;}#sk-c7312360-095f-437c-905e-4939beb6bd92 label.sk-toggleable__label {cursor: pointer;display: block;width: 100%;margin-bottom: 0;padding: 0.2em 0.3em;box-sizing: border-box;text-align: center;}#sk-c7312360-095f-437c-905e-4939beb6bd92 div.sk-toggleable__content {max-height: 0;max-width: 0;overflow: hidden;text-align: left;background-color: #f0f8ff;}#sk-c7312360-095f-437c-905e-4939beb6bd92 div.sk-toggleable__content pre {margin: 0.2em;color: black;border-radius: 0.25em;background-color: #f0f8ff;}#sk-c7312360-095f-437c-905e-4939beb6bd92 input.sk-toggleable__control:checked~div.sk-toggleable__content {max-height: 200px;max-width: 100%;overflow: auto;}#sk-c7312360-095f-437c-905e-4939beb6bd92 div.sk-estimator input.sk-toggleable__control:checked~label.sk-toggleable__label {background-color: #d4ebff;}#sk-c7312360-095f-437c-905e-4939beb6bd92 div.sk-label input.sk-toggleable__control:checked~label.sk-toggleable__label {background-color: #d4ebff;}#sk-c7312360-095f-437c-905e-4939beb6bd92 input.sk-hidden--visually {border: 0;clip: rect(1px 1px 1px 1px);clip: rect(1px, 1px, 1px, 1px);height: 1px;margin: -1px;overflow: hidden;padding: 0;position: absolute;width: 1px;}#sk-c7312360-095f-437c-905e-4939beb6bd92 div.sk-estimator {font-family: monospace;background-color: #f0f8ff;margin: 0.25em 0.25em;border: 1px dotted black;border-radius: 0.25em;box-sizing: border-box;}#sk-c7312360-095f-437c-905e-4939beb6bd92 div.sk-estimator:hover {background-color: #d4ebff;}#sk-c7312360-095f-437c-905e-4939beb6bd92 div.sk-parallel-item::after {content: \"\";width: 100%;border-bottom: 1px solid gray;flex-grow: 1;}#sk-c7312360-095f-437c-905e-4939beb6bd92 div.sk-label:hover label.sk-toggleable__label {background-color: #d4ebff;}#sk-c7312360-095f-437c-905e-4939beb6bd92 div.sk-serial::before {content: \"\";position: absolute;border-left: 1px solid gray;box-sizing: border-box;top: 2em;bottom: 0;left: 50%;}#sk-c7312360-095f-437c-905e-4939beb6bd92 div.sk-serial {display: flex;flex-direction: column;align-items: center;background-color: white;}#sk-c7312360-095f-437c-905e-4939beb6bd92 div.sk-item {z-index: 1;}#sk-c7312360-095f-437c-905e-4939beb6bd92 div.sk-parallel {display: flex;align-items: stretch;justify-content: center;background-color: white;}#sk-c7312360-095f-437c-905e-4939beb6bd92 div.sk-parallel-item {display: flex;flex-direction: column;position: relative;background-color: white;}#sk-c7312360-095f-437c-905e-4939beb6bd92 div.sk-parallel-item:first-child::after {align-self: flex-end;width: 50%;}#sk-c7312360-095f-437c-905e-4939beb6bd92 div.sk-parallel-item:last-child::after {align-self: flex-start;width: 50%;}#sk-c7312360-095f-437c-905e-4939beb6bd92 div.sk-parallel-item:only-child::after {width: 0;}#sk-c7312360-095f-437c-905e-4939beb6bd92 div.sk-dashed-wrapped {border: 1px dashed gray;margin: 0.2em;box-sizing: border-box;padding-bottom: 0.1em;background-color: white;position: relative;}#sk-c7312360-095f-437c-905e-4939beb6bd92 div.sk-label label {font-family: monospace;font-weight: bold;background-color: white;display: inline-block;line-height: 1.2em;}#sk-c7312360-095f-437c-905e-4939beb6bd92 div.sk-label-container {position: relative;z-index: 2;text-align: center;}#sk-c7312360-095f-437c-905e-4939beb6bd92 div.sk-container {display: inline-block;position: relative;}</style><div id=\"sk-c7312360-095f-437c-905e-4939beb6bd92\" class\"sk-top-container\"><div class=\"sk-container\"><div class=\"sk-item sk-dashed-wrapped\"><div class=\"sk-label-container\"><div class=\"sk-label sk-toggleable\"><input class=\"sk-toggleable__control sk-hidden--visually\" id=\"5ce9e5d0-2eed-4b2f-8a10-db15dbca9438\" type=\"checkbox\" ><label class=\"sk-toggleable__label\" for=\"5ce9e5d0-2eed-4b2f-8a10-db15dbca9438\">ColumnTransformer</label><div class=\"sk-toggleable__content\"><pre>ColumnTransformer(transformers=[('num',\n",
       "                                 Pipeline(steps=[('imputer', SimpleImputer())]),\n",
       "                                 ['Pclass', 'SibSp', 'Parch', 'Fare', 'Age']),\n",
       "                                ('cat',\n",
       "                                 Pipeline(steps=[('imputer',\n",
       "                                                  SimpleImputer(fill_value='missing',\n",
       "                                                                strategy='constant')),\n",
       "                                                 ('ordinal',\n",
       "                                                  OrdinalEncoder(handle_unknown='use_encoded_value',\n",
       "                                                                 unknown_value=10))]),\n",
       "                                 ['Sex', 'Embarked', 'Title'])])</pre></div></div></div><div class=\"sk-parallel\"><div class=\"sk-parallel-item\"><div class=\"sk-item\"><div class=\"sk-label-container\"><div class=\"sk-label sk-toggleable\"><input class=\"sk-toggleable__control sk-hidden--visually\" id=\"a230afbe-6d7e-4c99-8994-efdfbd3077b6\" type=\"checkbox\" ><label class=\"sk-toggleable__label\" for=\"a230afbe-6d7e-4c99-8994-efdfbd3077b6\">num</label><div class=\"sk-toggleable__content\"><pre>['Pclass', 'SibSp', 'Parch', 'Fare', 'Age']</pre></div></div></div><div class=\"sk-serial\"><div class=\"sk-item\"><div class=\"sk-serial\"><div class=\"sk-item\"><div class=\"sk-estimator sk-toggleable\"><input class=\"sk-toggleable__control sk-hidden--visually\" id=\"1127a117-3bfb-4c25-a204-c0e513e78a05\" type=\"checkbox\" ><label class=\"sk-toggleable__label\" for=\"1127a117-3bfb-4c25-a204-c0e513e78a05\">SimpleImputer</label><div class=\"sk-toggleable__content\"><pre>SimpleImputer()</pre></div></div></div></div></div></div></div></div><div class=\"sk-parallel-item\"><div class=\"sk-item\"><div class=\"sk-label-container\"><div class=\"sk-label sk-toggleable\"><input class=\"sk-toggleable__control sk-hidden--visually\" id=\"9a9901f7-426a-4802-beea-bc5244456d33\" type=\"checkbox\" ><label class=\"sk-toggleable__label\" for=\"9a9901f7-426a-4802-beea-bc5244456d33\">cat</label><div class=\"sk-toggleable__content\"><pre>['Sex', 'Embarked', 'Title']</pre></div></div></div><div class=\"sk-serial\"><div class=\"sk-item\"><div class=\"sk-serial\"><div class=\"sk-item\"><div class=\"sk-estimator sk-toggleable\"><input class=\"sk-toggleable__control sk-hidden--visually\" id=\"dd66233b-e3de-485b-b707-361ebe3e45d5\" type=\"checkbox\" ><label class=\"sk-toggleable__label\" for=\"dd66233b-e3de-485b-b707-361ebe3e45d5\">SimpleImputer</label><div class=\"sk-toggleable__content\"><pre>SimpleImputer(fill_value='missing', strategy='constant')</pre></div></div></div><div class=\"sk-item\"><div class=\"sk-estimator sk-toggleable\"><input class=\"sk-toggleable__control sk-hidden--visually\" id=\"cc96ba47-55cd-443c-951e-fac9f6458460\" type=\"checkbox\" ><label class=\"sk-toggleable__label\" for=\"cc96ba47-55cd-443c-951e-fac9f6458460\">OrdinalEncoder</label><div class=\"sk-toggleable__content\"><pre>OrdinalEncoder(handle_unknown='use_encoded_value', unknown_value=10)</pre></div></div></div></div></div></div></div></div></div></div></div></div>"
      ]
     },
     "metadata": {},
     "execution_count": 39
    }
   ],
   "metadata": {
    "nbgrader": {
     "grade": false,
     "grade_id": "cell-c607e75fb38ea248",
     "locked": false,
     "schema_version": 3,
     "solution": true,
     "task": false
    }
   }
  },
  {
   "cell_type": "markdown",
   "source": [
    "# Exercise 4 (1pts):\n",
    "1. Complete the diccionary with some Tree Models.\n",
    "2. Then we put each model in a Pipeline where:\n",
    "   - first is the prepocessing with the column Transformer\n",
    "   - Then is the Tree model\n",
    "3. Display the fullpipeline of the LGBMClassifier"
   ],
   "metadata": {}
  },
  {
   "cell_type": "code",
   "execution_count": 41,
   "source": [
    "from sklearn.tree          import DecisionTreeClassifier\r\n",
    "from sklearn.ensemble      import RandomForestClassifier\r\n",
    "from sklearn.ensemble      import ExtraTreesClassifier\r\n",
    "from sklearn.ensemble      import AdaBoostClassifier\r\n",
    "from sklearn.ensemble      import GradientBoostingClassifier\r\n",
    "from sklearn.experimental  import enable_hist_gradient_boosting # Necesary for HistGradientBoostingClassifier\r\n",
    "from sklearn.ensemble      import HistGradientBoostingClassifier\r\n",
    "from xgboost               import XGBClassifier\r\n",
    "from lightgbm              import LGBMClassifier\r\n",
    "from catboost              import CatBoostClassifier"
   ],
   "outputs": [],
   "metadata": {}
  },
  {
   "cell_type": "code",
   "execution_count": 42,
   "source": [
    "\"\"\"\r\n",
    "tree_classifiers = {\r\n",
    "  \"Decision Tree\": DecisionTreeClassifier(),\r\n",
    "  \"Extra Trees\":\r\n",
    "  \"Random Forest\":\r\n",
    "  \"AdaBoost\":\r\n",
    "  \"Skl GBM\":\r\n",
    "  \"Skl HistGBM\":\r\n",
    "  \"XGBoost\":\r\n",
    "  \"LightGBM\":\r\n",
    "  \"CatBoost\":\r\n",
    "\r\n",
    "tree_classifiers = add Pipeline dictionary with prepro\r\n",
    "\"\"\"\r\n",
    "\r\n",
    "tree_classifiers[\"LightGBM\"]"
   ],
   "outputs": [
    {
     "output_type": "execute_result",
     "data": {
      "text/plain": [
       "Pipeline(steps=[('columntransformer',\n",
       "                 ColumnTransformer(transformers=[('num',\n",
       "                                                  Pipeline(steps=[('imputer',\n",
       "                                                                   SimpleImputer())]),\n",
       "                                                  ['Pclass', 'SibSp', 'Parch',\n",
       "                                                   'Fare', 'Age']),\n",
       "                                                 ('cat',\n",
       "                                                  Pipeline(steps=[('imputer',\n",
       "                                                                   SimpleImputer(fill_value='missing',\n",
       "                                                                                 strategy='constant')),\n",
       "                                                                  ('ordinal',\n",
       "                                                                   OrdinalEncoder(handle_unknown='use_encoded_value',\n",
       "                                                                                  unknown_value=10))]),\n",
       "                                                  ['Sex', 'Embarked',\n",
       "                                                   'Title'])])),\n",
       "                ('lgbmclassifier', LGBMClassifier())])"
      ],
      "text/html": [
       "<style>#sk-08bc675b-d408-4672-b08d-101299e63890 {color: black;background-color: white;}#sk-08bc675b-d408-4672-b08d-101299e63890 pre{padding: 0;}#sk-08bc675b-d408-4672-b08d-101299e63890 div.sk-toggleable {background-color: white;}#sk-08bc675b-d408-4672-b08d-101299e63890 label.sk-toggleable__label {cursor: pointer;display: block;width: 100%;margin-bottom: 0;padding: 0.2em 0.3em;box-sizing: border-box;text-align: center;}#sk-08bc675b-d408-4672-b08d-101299e63890 div.sk-toggleable__content {max-height: 0;max-width: 0;overflow: hidden;text-align: left;background-color: #f0f8ff;}#sk-08bc675b-d408-4672-b08d-101299e63890 div.sk-toggleable__content pre {margin: 0.2em;color: black;border-radius: 0.25em;background-color: #f0f8ff;}#sk-08bc675b-d408-4672-b08d-101299e63890 input.sk-toggleable__control:checked~div.sk-toggleable__content {max-height: 200px;max-width: 100%;overflow: auto;}#sk-08bc675b-d408-4672-b08d-101299e63890 div.sk-estimator input.sk-toggleable__control:checked~label.sk-toggleable__label {background-color: #d4ebff;}#sk-08bc675b-d408-4672-b08d-101299e63890 div.sk-label input.sk-toggleable__control:checked~label.sk-toggleable__label {background-color: #d4ebff;}#sk-08bc675b-d408-4672-b08d-101299e63890 input.sk-hidden--visually {border: 0;clip: rect(1px 1px 1px 1px);clip: rect(1px, 1px, 1px, 1px);height: 1px;margin: -1px;overflow: hidden;padding: 0;position: absolute;width: 1px;}#sk-08bc675b-d408-4672-b08d-101299e63890 div.sk-estimator {font-family: monospace;background-color: #f0f8ff;margin: 0.25em 0.25em;border: 1px dotted black;border-radius: 0.25em;box-sizing: border-box;}#sk-08bc675b-d408-4672-b08d-101299e63890 div.sk-estimator:hover {background-color: #d4ebff;}#sk-08bc675b-d408-4672-b08d-101299e63890 div.sk-parallel-item::after {content: \"\";width: 100%;border-bottom: 1px solid gray;flex-grow: 1;}#sk-08bc675b-d408-4672-b08d-101299e63890 div.sk-label:hover label.sk-toggleable__label {background-color: #d4ebff;}#sk-08bc675b-d408-4672-b08d-101299e63890 div.sk-serial::before {content: \"\";position: absolute;border-left: 1px solid gray;box-sizing: border-box;top: 2em;bottom: 0;left: 50%;}#sk-08bc675b-d408-4672-b08d-101299e63890 div.sk-serial {display: flex;flex-direction: column;align-items: center;background-color: white;}#sk-08bc675b-d408-4672-b08d-101299e63890 div.sk-item {z-index: 1;}#sk-08bc675b-d408-4672-b08d-101299e63890 div.sk-parallel {display: flex;align-items: stretch;justify-content: center;background-color: white;}#sk-08bc675b-d408-4672-b08d-101299e63890 div.sk-parallel-item {display: flex;flex-direction: column;position: relative;background-color: white;}#sk-08bc675b-d408-4672-b08d-101299e63890 div.sk-parallel-item:first-child::after {align-self: flex-end;width: 50%;}#sk-08bc675b-d408-4672-b08d-101299e63890 div.sk-parallel-item:last-child::after {align-self: flex-start;width: 50%;}#sk-08bc675b-d408-4672-b08d-101299e63890 div.sk-parallel-item:only-child::after {width: 0;}#sk-08bc675b-d408-4672-b08d-101299e63890 div.sk-dashed-wrapped {border: 1px dashed gray;margin: 0.2em;box-sizing: border-box;padding-bottom: 0.1em;background-color: white;position: relative;}#sk-08bc675b-d408-4672-b08d-101299e63890 div.sk-label label {font-family: monospace;font-weight: bold;background-color: white;display: inline-block;line-height: 1.2em;}#sk-08bc675b-d408-4672-b08d-101299e63890 div.sk-label-container {position: relative;z-index: 2;text-align: center;}#sk-08bc675b-d408-4672-b08d-101299e63890 div.sk-container {display: inline-block;position: relative;}</style><div id=\"sk-08bc675b-d408-4672-b08d-101299e63890\" class\"sk-top-container\"><div class=\"sk-container\"><div class=\"sk-item sk-dashed-wrapped\"><div class=\"sk-label-container\"><div class=\"sk-label sk-toggleable\"><input class=\"sk-toggleable__control sk-hidden--visually\" id=\"5f473732-ad4e-462a-9c60-9458de6a4372\" type=\"checkbox\" ><label class=\"sk-toggleable__label\" for=\"5f473732-ad4e-462a-9c60-9458de6a4372\">Pipeline</label><div class=\"sk-toggleable__content\"><pre>Pipeline(steps=[('columntransformer',\n",
       "                 ColumnTransformer(transformers=[('num',\n",
       "                                                  Pipeline(steps=[('imputer',\n",
       "                                                                   SimpleImputer())]),\n",
       "                                                  ['Pclass', 'SibSp', 'Parch',\n",
       "                                                   'Fare', 'Age']),\n",
       "                                                 ('cat',\n",
       "                                                  Pipeline(steps=[('imputer',\n",
       "                                                                   SimpleImputer(fill_value='missing',\n",
       "                                                                                 strategy='constant')),\n",
       "                                                                  ('ordinal',\n",
       "                                                                   OrdinalEncoder(handle_unknown='use_encoded_value',\n",
       "                                                                                  unknown_value=10))]),\n",
       "                                                  ['Sex', 'Embarked',\n",
       "                                                   'Title'])])),\n",
       "                ('lgbmclassifier', LGBMClassifier())])</pre></div></div></div><div class=\"sk-serial\"><div class=\"sk-item sk-dashed-wrapped\"><div class=\"sk-label-container\"><div class=\"sk-label sk-toggleable\"><input class=\"sk-toggleable__control sk-hidden--visually\" id=\"102ab113-cd1a-4759-b4a6-3099ca034971\" type=\"checkbox\" ><label class=\"sk-toggleable__label\" for=\"102ab113-cd1a-4759-b4a6-3099ca034971\">columntransformer: ColumnTransformer</label><div class=\"sk-toggleable__content\"><pre>ColumnTransformer(transformers=[('num',\n",
       "                                 Pipeline(steps=[('imputer', SimpleImputer())]),\n",
       "                                 ['Pclass', 'SibSp', 'Parch', 'Fare', 'Age']),\n",
       "                                ('cat',\n",
       "                                 Pipeline(steps=[('imputer',\n",
       "                                                  SimpleImputer(fill_value='missing',\n",
       "                                                                strategy='constant')),\n",
       "                                                 ('ordinal',\n",
       "                                                  OrdinalEncoder(handle_unknown='use_encoded_value',\n",
       "                                                                 unknown_value=10))]),\n",
       "                                 ['Sex', 'Embarked', 'Title'])])</pre></div></div></div><div class=\"sk-parallel\"><div class=\"sk-parallel-item\"><div class=\"sk-item\"><div class=\"sk-label-container\"><div class=\"sk-label sk-toggleable\"><input class=\"sk-toggleable__control sk-hidden--visually\" id=\"8badc554-ad06-46a9-ac27-6f7b27979941\" type=\"checkbox\" ><label class=\"sk-toggleable__label\" for=\"8badc554-ad06-46a9-ac27-6f7b27979941\">num</label><div class=\"sk-toggleable__content\"><pre>['Pclass', 'SibSp', 'Parch', 'Fare', 'Age']</pre></div></div></div><div class=\"sk-serial\"><div class=\"sk-item\"><div class=\"sk-serial\"><div class=\"sk-item\"><div class=\"sk-estimator sk-toggleable\"><input class=\"sk-toggleable__control sk-hidden--visually\" id=\"67ea05c5-0c66-4eef-9323-95aec9ace34c\" type=\"checkbox\" ><label class=\"sk-toggleable__label\" for=\"67ea05c5-0c66-4eef-9323-95aec9ace34c\">SimpleImputer</label><div class=\"sk-toggleable__content\"><pre>SimpleImputer()</pre></div></div></div></div></div></div></div></div><div class=\"sk-parallel-item\"><div class=\"sk-item\"><div class=\"sk-label-container\"><div class=\"sk-label sk-toggleable\"><input class=\"sk-toggleable__control sk-hidden--visually\" id=\"9beed762-f895-4018-a326-af2b9d8cd6d3\" type=\"checkbox\" ><label class=\"sk-toggleable__label\" for=\"9beed762-f895-4018-a326-af2b9d8cd6d3\">cat</label><div class=\"sk-toggleable__content\"><pre>['Sex', 'Embarked', 'Title']</pre></div></div></div><div class=\"sk-serial\"><div class=\"sk-item\"><div class=\"sk-serial\"><div class=\"sk-item\"><div class=\"sk-estimator sk-toggleable\"><input class=\"sk-toggleable__control sk-hidden--visually\" id=\"c0997a2b-af28-4d6e-bb33-19dceecda3ff\" type=\"checkbox\" ><label class=\"sk-toggleable__label\" for=\"c0997a2b-af28-4d6e-bb33-19dceecda3ff\">SimpleImputer</label><div class=\"sk-toggleable__content\"><pre>SimpleImputer(fill_value='missing', strategy='constant')</pre></div></div></div><div class=\"sk-item\"><div class=\"sk-estimator sk-toggleable\"><input class=\"sk-toggleable__control sk-hidden--visually\" id=\"fcd988f7-de71-4aed-a1ad-e2ac4cdce3d5\" type=\"checkbox\" ><label class=\"sk-toggleable__label\" for=\"fcd988f7-de71-4aed-a1ad-e2ac4cdce3d5\">OrdinalEncoder</label><div class=\"sk-toggleable__content\"><pre>OrdinalEncoder(handle_unknown='use_encoded_value', unknown_value=10)</pre></div></div></div></div></div></div></div></div></div></div><div class=\"sk-item\"><div class=\"sk-estimator sk-toggleable\"><input class=\"sk-toggleable__control sk-hidden--visually\" id=\"3f41fbd6-8bc5-4d31-931d-3087080d5826\" type=\"checkbox\" ><label class=\"sk-toggleable__label\" for=\"3f41fbd6-8bc5-4d31-931d-3087080d5826\">LGBMClassifier</label><div class=\"sk-toggleable__content\"><pre>LGBMClassifier()</pre></div></div></div></div></div></div></div>"
      ]
     },
     "metadata": {},
     "execution_count": 42
    }
   ],
   "metadata": {
    "nbgrader": {
     "grade": false,
     "grade_id": "cell-76a3be8223730c5a",
     "locked": false,
     "schema_version": 3,
     "solution": true,
     "task": false
    }
   }
  },
  {
   "cell_type": "markdown",
   "source": [
    "# Exercise 5 (3pts):\n",
    "Define a simple split validation strategy with:\n",
    "- 80% for train\n",
    "- 20% for validation\n",
    "- With stratification\n",
    "- random_state=0\n",
    "\n",
    "And train all the models in a for loop"
   ],
   "metadata": {}
  },
  {
   "cell_type": "code",
   "execution_count": 44,
   "source": [
    "\"\"\"\r\n",
    "x_train, x_val, y_train, y_val = model_selection.train_test_split(\r\n",
    "    # CODE HERE\r\n",
    ")\r\n",
    "\r\n",
    "Stratify\r\n",
    "\"\"\"\r\n",
    "\r\n",
    "\r\n",
    "\r\n",
    "results = pd.DataFrame({'Model': [], 'Accuracy': [], 'Bal Acc.': [], 'Time': []})\r\n",
    "\r\n",
    "\"\"\"\r\n",
    "for model_name, model in tree_classifiers.items():\r\n",
    "    start_time = time.time()\r\n",
    "    \r\n",
    "    # FOR EVERY PIPELINE (PREPRO + MODEL) -> TRAIN WITH TRAIN DATA (x_train)\r\n",
    "    \r\n",
    "    # GET PREDICTIONS USING x_val\r\n",
    "    pred = # CODE HERE\r\n",
    "\r\n",
    "    total_time = time.time() - start_time\r\n",
    "\r\n",
    "    results = results.append({\"Model\":    model_name,\r\n",
    "                              \"Accuracy\": metrics.accuracy_score(y_val, pred)*100,\r\n",
    "                              \"Bal Acc.\": metrics.balanced_accuracy_score(y_val, pred)*100,\r\n",
    "                              \"Time\":     total_time},\r\n",
    "                              ignore_index=True)\r\n",
    "                              \r\n",
    "                              \r\n",
    "\"\"\"\r\n",
    "\r\n",
    "### BEGIN SOLUTION\r\n",
    "\r\n",
    "\r\n",
    "results_ord = results.sort_values(by=['Accuracy'], ascending=False, ignore_index=True)\r\n",
    "results_ord.index += 1 \r\n",
    "results_ord.style.bar(subset=['Accuracy', 'Bal Acc.'], vmin=0, vmax=100, color='#5fba7d')"
   ],
   "outputs": [
    {
     "output_type": "stream",
     "name": "stderr",
     "text": [
      "C:\\Users\\Jon\\.conda\\envs\\NLP\\lib\\site-packages\\xgboost\\sklearn.py:888: UserWarning: The use of label encoder in XGBClassifier is deprecated and will be removed in a future release. To remove this warning, do the following: 1) Pass option use_label_encoder=False when constructing XGBClassifier object; and 2) Encode your labels (y) as integers starting with 0, i.e. 0, 1, 2, ..., [num_class - 1].\n",
      "  warnings.warn(label_encoder_deprecation_msg, UserWarning)\n",
      "[08:59:25] WARNING: ..\\src\\learner.cc:1061: Starting in XGBoost 1.3.0, the default evaluation metric used with the objective 'binary:logistic' was changed from 'error' to 'logloss'. Explicitly set eval_metric if you'd like to restore the old behavior.\n",
      "Learning rate set to 0.073611\n",
      "0:\tlearn: 0.6694333\ttotal: 149ms\tremaining: 14.8s\n",
      "1:\tlearn: 0.6480457\ttotal: 150ms\tremaining: 7.36s\n",
      "2:\tlearn: 0.6295837\ttotal: 151ms\tremaining: 4.87s\n",
      "3:\tlearn: 0.6077415\ttotal: 151ms\tremaining: 3.63s\n",
      "4:\tlearn: 0.5921743\ttotal: 152ms\tremaining: 2.89s\n",
      "5:\tlearn: 0.5750500\ttotal: 153ms\tremaining: 2.39s\n",
      "6:\tlearn: 0.5592163\ttotal: 154ms\tremaining: 2.04s\n",
      "7:\tlearn: 0.5464314\ttotal: 155ms\tremaining: 1.78s\n",
      "8:\tlearn: 0.5345239\ttotal: 155ms\tremaining: 1.57s\n",
      "9:\tlearn: 0.5232550\ttotal: 156ms\tremaining: 1.4s\n",
      "10:\tlearn: 0.5133119\ttotal: 157ms\tremaining: 1.27s\n",
      "11:\tlearn: 0.5048496\ttotal: 158ms\tremaining: 1.16s\n",
      "12:\tlearn: 0.4960035\ttotal: 158ms\tremaining: 1.06s\n",
      "13:\tlearn: 0.4904271\ttotal: 159ms\tremaining: 975ms\n",
      "14:\tlearn: 0.4825854\ttotal: 159ms\tremaining: 904ms\n",
      "15:\tlearn: 0.4754477\ttotal: 160ms\tremaining: 842ms\n",
      "16:\tlearn: 0.4699928\ttotal: 161ms\tremaining: 787ms\n",
      "17:\tlearn: 0.4652950\ttotal: 162ms\tremaining: 738ms\n",
      "18:\tlearn: 0.4598439\ttotal: 163ms\tremaining: 694ms\n",
      "19:\tlearn: 0.4548634\ttotal: 163ms\tremaining: 654ms\n",
      "20:\tlearn: 0.4501806\ttotal: 164ms\tremaining: 618ms\n",
      "21:\tlearn: 0.4463048\ttotal: 165ms\tremaining: 585ms\n",
      "22:\tlearn: 0.4424034\ttotal: 166ms\tremaining: 555ms\n",
      "23:\tlearn: 0.4385625\ttotal: 167ms\tremaining: 528ms\n",
      "24:\tlearn: 0.4350601\ttotal: 168ms\tremaining: 503ms\n",
      "25:\tlearn: 0.4319113\ttotal: 169ms\tremaining: 480ms\n",
      "26:\tlearn: 0.4288937\ttotal: 169ms\tremaining: 458ms\n",
      "27:\tlearn: 0.4268974\ttotal: 170ms\tremaining: 437ms\n",
      "28:\tlearn: 0.4238645\ttotal: 171ms\tremaining: 418ms\n",
      "29:\tlearn: 0.4218316\ttotal: 172ms\tremaining: 400ms\n",
      "30:\tlearn: 0.4200349\ttotal: 172ms\tremaining: 383ms\n",
      "31:\tlearn: 0.4181143\ttotal: 173ms\tremaining: 367ms\n",
      "32:\tlearn: 0.4161811\ttotal: 174ms\tremaining: 353ms\n",
      "33:\tlearn: 0.4144145\ttotal: 174ms\tremaining: 339ms\n",
      "34:\tlearn: 0.4125859\ttotal: 175ms\tremaining: 325ms\n",
      "35:\tlearn: 0.4113172\ttotal: 176ms\tremaining: 312ms\n",
      "36:\tlearn: 0.4098183\ttotal: 176ms\tremaining: 300ms\n",
      "37:\tlearn: 0.4081874\ttotal: 177ms\tremaining: 289ms\n",
      "38:\tlearn: 0.4064390\ttotal: 178ms\tremaining: 278ms\n",
      "39:\tlearn: 0.4053965\ttotal: 179ms\tremaining: 268ms\n",
      "40:\tlearn: 0.4048717\ttotal: 179ms\tremaining: 258ms\n",
      "41:\tlearn: 0.4033969\ttotal: 180ms\tremaining: 249ms\n",
      "42:\tlearn: 0.4031039\ttotal: 181ms\tremaining: 239ms\n",
      "43:\tlearn: 0.4018147\ttotal: 181ms\tremaining: 231ms\n",
      "44:\tlearn: 0.4010203\ttotal: 182ms\tremaining: 222ms\n",
      "45:\tlearn: 0.4000516\ttotal: 182ms\tremaining: 214ms\n",
      "46:\tlearn: 0.3990799\ttotal: 183ms\tremaining: 207ms\n",
      "47:\tlearn: 0.3984345\ttotal: 184ms\tremaining: 199ms\n",
      "48:\tlearn: 0.3977625\ttotal: 185ms\tremaining: 192ms\n",
      "49:\tlearn: 0.3967617\ttotal: 186ms\tremaining: 186ms\n",
      "50:\tlearn: 0.3961264\ttotal: 186ms\tremaining: 179ms\n",
      "51:\tlearn: 0.3952933\ttotal: 187ms\tremaining: 173ms\n",
      "52:\tlearn: 0.3942482\ttotal: 188ms\tremaining: 167ms\n",
      "53:\tlearn: 0.3930243\ttotal: 189ms\tremaining: 161ms\n",
      "54:\tlearn: 0.3924516\ttotal: 189ms\tremaining: 155ms\n",
      "55:\tlearn: 0.3915964\ttotal: 190ms\tremaining: 149ms\n",
      "56:\tlearn: 0.3908370\ttotal: 191ms\tremaining: 144ms\n",
      "57:\tlearn: 0.3900827\ttotal: 192ms\tremaining: 139ms\n",
      "58:\tlearn: 0.3898073\ttotal: 193ms\tremaining: 134ms\n",
      "59:\tlearn: 0.3890962\ttotal: 194ms\tremaining: 129ms\n",
      "60:\tlearn: 0.3888639\ttotal: 195ms\tremaining: 124ms\n",
      "61:\tlearn: 0.3878868\ttotal: 195ms\tremaining: 120ms\n",
      "62:\tlearn: 0.3872554\ttotal: 196ms\tremaining: 115ms\n",
      "63:\tlearn: 0.3866982\ttotal: 197ms\tremaining: 111ms\n",
      "64:\tlearn: 0.3860191\ttotal: 198ms\tremaining: 107ms\n",
      "65:\tlearn: 0.3854958\ttotal: 199ms\tremaining: 102ms\n",
      "66:\tlearn: 0.3846320\ttotal: 200ms\tremaining: 98.3ms\n",
      "67:\tlearn: 0.3840621\ttotal: 200ms\tremaining: 94.3ms\n",
      "68:\tlearn: 0.3833806\ttotal: 201ms\tremaining: 90.4ms\n",
      "69:\tlearn: 0.3824346\ttotal: 202ms\tremaining: 86.6ms\n",
      "70:\tlearn: 0.3817595\ttotal: 203ms\tremaining: 82.9ms\n",
      "71:\tlearn: 0.3806142\ttotal: 204ms\tremaining: 79.2ms\n",
      "72:\tlearn: 0.3796158\ttotal: 204ms\tremaining: 75.6ms\n",
      "73:\tlearn: 0.3791840\ttotal: 205ms\tremaining: 72.1ms\n",
      "74:\tlearn: 0.3784064\ttotal: 206ms\tremaining: 68.7ms\n",
      "75:\tlearn: 0.3778098\ttotal: 207ms\tremaining: 65.3ms\n",
      "76:\tlearn: 0.3770123\ttotal: 208ms\tremaining: 62ms\n",
      "77:\tlearn: 0.3764381\ttotal: 208ms\tremaining: 58.8ms\n",
      "78:\tlearn: 0.3755183\ttotal: 209ms\tremaining: 55.7ms\n",
      "79:\tlearn: 0.3750483\ttotal: 210ms\tremaining: 52.6ms\n",
      "80:\tlearn: 0.3747701\ttotal: 211ms\tremaining: 49.5ms\n",
      "81:\tlearn: 0.3743085\ttotal: 212ms\tremaining: 46.5ms\n",
      "82:\tlearn: 0.3739172\ttotal: 213ms\tremaining: 43.5ms\n",
      "83:\tlearn: 0.3732253\ttotal: 213ms\tremaining: 40.6ms\n",
      "84:\tlearn: 0.3727583\ttotal: 214ms\tremaining: 37.8ms\n",
      "85:\tlearn: 0.3721956\ttotal: 215ms\tremaining: 35ms\n",
      "86:\tlearn: 0.3718764\ttotal: 216ms\tremaining: 32.3ms\n",
      "87:\tlearn: 0.3711873\ttotal: 217ms\tremaining: 29.6ms\n",
      "88:\tlearn: 0.3704048\ttotal: 218ms\tremaining: 26.9ms\n",
      "89:\tlearn: 0.3697051\ttotal: 218ms\tremaining: 24.3ms\n",
      "90:\tlearn: 0.3693410\ttotal: 219ms\tremaining: 21.7ms\n",
      "91:\tlearn: 0.3692150\ttotal: 220ms\tremaining: 19.1ms\n",
      "92:\tlearn: 0.3686147\ttotal: 221ms\tremaining: 16.6ms\n",
      "93:\tlearn: 0.3679036\ttotal: 222ms\tremaining: 14.2ms\n",
      "94:\tlearn: 0.3672324\ttotal: 223ms\tremaining: 11.7ms\n",
      "95:\tlearn: 0.3663538\ttotal: 224ms\tremaining: 9.31ms\n",
      "96:\tlearn: 0.3659252\ttotal: 224ms\tremaining: 6.94ms\n",
      "97:\tlearn: 0.3655376\ttotal: 225ms\tremaining: 4.59ms\n",
      "98:\tlearn: 0.3651809\ttotal: 226ms\tremaining: 2.28ms\n",
      "99:\tlearn: 0.3647761\ttotal: 227ms\tremaining: 0us\n"
     ]
    },
    {
     "output_type": "execute_result",
     "data": {
      "text/plain": [
       "<pandas.io.formats.style.Styler at 0x201c11e2d30>"
      ],
      "text/html": [
       "<style  type=\"text/css\" >\n",
       "#T_e16f1_row0_col1{\n",
       "            width:  10em;\n",
       "             height:  80%;\n",
       "            background:  linear-gradient(90deg,#5fba7d 86.6%, transparent 86.6%);\n",
       "        }#T_e16f1_row0_col2{\n",
       "            width:  10em;\n",
       "             height:  80%;\n",
       "            background:  linear-gradient(90deg,#5fba7d 85.0%, transparent 85.0%);\n",
       "        }#T_e16f1_row1_col1{\n",
       "            width:  10em;\n",
       "             height:  80%;\n",
       "            background:  linear-gradient(90deg,#5fba7d 84.9%, transparent 84.9%);\n",
       "        }#T_e16f1_row1_col2{\n",
       "            width:  10em;\n",
       "             height:  80%;\n",
       "            background:  linear-gradient(90deg,#5fba7d 82.9%, transparent 82.9%);\n",
       "        }#T_e16f1_row2_col1,#T_e16f1_row3_col1{\n",
       "            width:  10em;\n",
       "             height:  80%;\n",
       "            background:  linear-gradient(90deg,#5fba7d 83.8%, transparent 83.8%);\n",
       "        }#T_e16f1_row2_col2,#T_e16f1_row3_col2{\n",
       "            width:  10em;\n",
       "             height:  80%;\n",
       "            background:  linear-gradient(90deg,#5fba7d 82.8%, transparent 82.8%);\n",
       "        }#T_e16f1_row4_col1,#T_e16f1_row5_col1{\n",
       "            width:  10em;\n",
       "             height:  80%;\n",
       "            background:  linear-gradient(90deg,#5fba7d 82.7%, transparent 82.7%);\n",
       "        }#T_e16f1_row4_col2,#T_e16f1_row6_col1{\n",
       "            width:  10em;\n",
       "             height:  80%;\n",
       "            background:  linear-gradient(90deg,#5fba7d 82.1%, transparent 82.1%);\n",
       "        }#T_e16f1_row5_col2{\n",
       "            width:  10em;\n",
       "             height:  80%;\n",
       "            background:  linear-gradient(90deg,#5fba7d 81.3%, transparent 81.3%);\n",
       "        }#T_e16f1_row6_col2{\n",
       "            width:  10em;\n",
       "             height:  80%;\n",
       "            background:  linear-gradient(90deg,#5fba7d 80.6%, transparent 80.6%);\n",
       "        }#T_e16f1_row7_col1{\n",
       "            width:  10em;\n",
       "             height:  80%;\n",
       "            background:  linear-gradient(90deg,#5fba7d 80.4%, transparent 80.4%);\n",
       "        }#T_e16f1_row7_col2{\n",
       "            width:  10em;\n",
       "             height:  80%;\n",
       "            background:  linear-gradient(90deg,#5fba7d 79.0%, transparent 79.0%);\n",
       "        }#T_e16f1_row8_col1{\n",
       "            width:  10em;\n",
       "             height:  80%;\n",
       "            background:  linear-gradient(90deg,#5fba7d 76.5%, transparent 76.5%);\n",
       "        }#T_e16f1_row8_col2{\n",
       "            width:  10em;\n",
       "             height:  80%;\n",
       "            background:  linear-gradient(90deg,#5fba7d 75.8%, transparent 75.8%);\n",
       "        }</style><table id=\"T_e16f1_\" ><thead>    <tr>        <th class=\"blank level0\" ></th>        <th class=\"col_heading level0 col0\" >Model</th>        <th class=\"col_heading level0 col1\" >Accuracy</th>        <th class=\"col_heading level0 col2\" >Bal Acc.</th>        <th class=\"col_heading level0 col3\" >Time</th>    </tr></thead><tbody>\n",
       "                <tr>\n",
       "                        <th id=\"T_e16f1_level0_row0\" class=\"row_heading level0 row0\" >1</th>\n",
       "                        <td id=\"T_e16f1_row0_col0\" class=\"data row0 col0\" >Skl GBM</td>\n",
       "                        <td id=\"T_e16f1_row0_col1\" class=\"data row0 col1\" >86.592179</td>\n",
       "                        <td id=\"T_e16f1_row0_col2\" class=\"data row0 col2\" >85.039526</td>\n",
       "                        <td id=\"T_e16f1_row0_col3\" class=\"data row0 col3\" >0.071807</td>\n",
       "            </tr>\n",
       "            <tr>\n",
       "                        <th id=\"T_e16f1_level0_row1\" class=\"row_heading level0 row1\" >2</th>\n",
       "                        <td id=\"T_e16f1_row1_col0\" class=\"data row1 col0\" >CatBoost</td>\n",
       "                        <td id=\"T_e16f1_row1_col1\" class=\"data row1 col1\" >84.916201</td>\n",
       "                        <td id=\"T_e16f1_row1_col2\" class=\"data row1 col2\" >82.865613</td>\n",
       "                        <td id=\"T_e16f1_row1_col3\" class=\"data row1 col3\" >0.335109</td>\n",
       "            </tr>\n",
       "            <tr>\n",
       "                        <th id=\"T_e16f1_level0_row2\" class=\"row_heading level0 row2\" >3</th>\n",
       "                        <td id=\"T_e16f1_row2_col0\" class=\"data row2 col0\" >XGBoost</td>\n",
       "                        <td id=\"T_e16f1_row2_col1\" class=\"data row2 col1\" >83.798883</td>\n",
       "                        <td id=\"T_e16f1_row2_col2\" class=\"data row2 col2\" >82.766798</td>\n",
       "                        <td id=\"T_e16f1_row2_col3\" class=\"data row2 col3\" >0.067819</td>\n",
       "            </tr>\n",
       "            <tr>\n",
       "                        <th id=\"T_e16f1_level0_row3\" class=\"row_heading level0 row3\" >4</th>\n",
       "                        <td id=\"T_e16f1_row3_col0\" class=\"data row3 col0\" >LightGBM</td>\n",
       "                        <td id=\"T_e16f1_row3_col1\" class=\"data row3 col1\" >83.798883</td>\n",
       "                        <td id=\"T_e16f1_row3_col2\" class=\"data row3 col2\" >82.766798</td>\n",
       "                        <td id=\"T_e16f1_row3_col3\" class=\"data row3 col3\" >0.053856</td>\n",
       "            </tr>\n",
       "            <tr>\n",
       "                        <th id=\"T_e16f1_level0_row4\" class=\"row_heading level0 row4\" >5</th>\n",
       "                        <td id=\"T_e16f1_row4_col0\" class=\"data row4 col0\" >AdaBoost</td>\n",
       "                        <td id=\"T_e16f1_row4_col1\" class=\"data row4 col1\" >82.681564</td>\n",
       "                        <td id=\"T_e16f1_row4_col2\" class=\"data row4 col2\" >82.127800</td>\n",
       "                        <td id=\"T_e16f1_row4_col3\" class=\"data row4 col3\" >0.117685</td>\n",
       "            </tr>\n",
       "            <tr>\n",
       "                        <th id=\"T_e16f1_level0_row5\" class=\"row_heading level0 row5\" >6</th>\n",
       "                        <td id=\"T_e16f1_row5_col0\" class=\"data row5 col0\" >Skl HistGBM</td>\n",
       "                        <td id=\"T_e16f1_row5_col1\" class=\"data row5 col1\" >82.681564</td>\n",
       "                        <td id=\"T_e16f1_row5_col2\" class=\"data row5 col2\" >81.317523</td>\n",
       "                        <td id=\"T_e16f1_row5_col3\" class=\"data row5 col3\" >0.354052</td>\n",
       "            </tr>\n",
       "            <tr>\n",
       "                        <th id=\"T_e16f1_level0_row6\" class=\"row_heading level0 row6\" >7</th>\n",
       "                        <td id=\"T_e16f1_row6_col0\" class=\"data row6 col0\" >Random Forest</td>\n",
       "                        <td id=\"T_e16f1_row6_col1\" class=\"data row6 col1\" >82.122905</td>\n",
       "                        <td id=\"T_e16f1_row6_col2\" class=\"data row6 col2\" >80.592885</td>\n",
       "                        <td id=\"T_e16f1_row6_col3\" class=\"data row6 col3\" >0.111702</td>\n",
       "            </tr>\n",
       "            <tr>\n",
       "                        <th id=\"T_e16f1_level0_row7\" class=\"row_heading level0 row7\" >8</th>\n",
       "                        <td id=\"T_e16f1_row7_col0\" class=\"data row7 col0\" >Extra Trees</td>\n",
       "                        <td id=\"T_e16f1_row7_col1\" class=\"data row7 col1\" >80.446927</td>\n",
       "                        <td id=\"T_e16f1_row7_col2\" class=\"data row7 col2\" >78.959157</td>\n",
       "                        <td id=\"T_e16f1_row7_col3\" class=\"data row7 col3\" >0.096741</td>\n",
       "            </tr>\n",
       "            <tr>\n",
       "                        <th id=\"T_e16f1_level0_row8\" class=\"row_heading level0 row8\" >9</th>\n",
       "                        <td id=\"T_e16f1_row8_col0\" class=\"data row8 col0\" >Decision Tree</td>\n",
       "                        <td id=\"T_e16f1_row8_col1\" class=\"data row8 col1\" >76.536313</td>\n",
       "                        <td id=\"T_e16f1_row8_col2\" class=\"data row8 col2\" >75.777339</td>\n",
       "                        <td id=\"T_e16f1_row8_col3\" class=\"data row8 col3\" >0.010972</td>\n",
       "            </tr>\n",
       "    </tbody></table>"
      ]
     },
     "metadata": {},
     "execution_count": 44
    }
   ],
   "metadata": {
    "colab": {
     "base_uri": "https://localhost:8080/",
     "height": 173
    },
    "colab_type": "code",
    "id": "kY1uWk6-OcLw",
    "nbgrader": {
     "grade": false,
     "grade_id": "cell-64f17e0d448bca7e",
     "locked": false,
     "schema_version": 3,
     "solution": true,
     "task": false
    },
    "outputId": "3562463f-3197-424c-dc82-b07ad579e9cc"
   }
  },
  {
   "cell_type": "markdown",
   "source": [
    "# Exercise 6 (3pts):\n",
    "Define a 10 Fold cross validation strategy with:\n",
    "- With stratification\n",
    "- shuffle=True\n",
    "- random_state=0\n",
    "\n",
    "And train all the models in a for loop.\n",
    "\n",
    "Tip you can use **[cross_val_predict](https://scikit-learn.org/stable/modules/generated/sklearn.model_selection.cross_val_predict.html)** for both training and predict with "
   ],
   "metadata": {}
  },
  {
   "cell_type": "code",
   "execution_count": 2,
   "source": [
    "\"\"\"\r\n",
    "skf = model_selection.StratifiedKFold(\r\n",
    "    # CODE HERE\r\n",
    ")\r\n",
    "\"\"\"\r\n",
    "\r\n",
    "results = pd.DataFrame({'Model': [], 'Accuracy': [], 'Bal Acc.': [], 'Time': []})\r\n",
    "\r\n",
    "\"\"\"\r\n",
    "for model_name, model in tree_classifiers.items():\r\n",
    "    start_time = time.time()\r\n",
    "        \r\n",
    "    # TRAIN AND GET PREDICTIONS USING cross_val_predict() and x,y\r\n",
    "    pred = # CODE HERE\r\n",
    "\r\n",
    "    total_time = time.time() - start_time\r\n",
    "\r\n",
    "    results = results.append({\"Model\":    model_name,\r\n",
    "                              \"Accuracy\": metrics.accuracy_score(y_val, pred)*100,\r\n",
    "                              \"Bal Acc.\": metrics.balanced_accuracy_score(y_val, pred)*100,\r\n",
    "                              \"Time\":     total_time},\r\n",
    "                              ignore_index=True)\r\n",
    "                              \r\n",
    "                              \r\n",
    "\"\"\"\r\n",
    "\r\n",
    "\r\n",
    "\r\n",
    "results_ord = results.sort_values(by=['Accuracy'], ascending=False, ignore_index=True)\r\n",
    "results_ord.index += 1 \r\n",
    "results_ord.style.bar(subset=['Accuracy', 'Bal Acc.'], vmin=0, vmax=100, color='#5fba7d')"
   ],
   "outputs": [
    {
     "output_type": "error",
     "ename": "NameError",
     "evalue": "name 'pd' is not defined",
     "traceback": [
      "\u001b[1;31m---------------------------------------------------------------------------\u001b[0m",
      "\u001b[1;31mNameError\u001b[0m                                 Traceback (most recent call last)",
      "\u001b[1;32m~\\AppData\\Local\\Temp/ipykernel_5604/1522273570.py\u001b[0m in \u001b[0;36m<module>\u001b[1;34m\u001b[0m\n\u001b[0;32m      5\u001b[0m \"\"\"\n\u001b[0;32m      6\u001b[0m \u001b[1;33m\u001b[0m\u001b[0m\n\u001b[1;32m----> 7\u001b[1;33m \u001b[0mresults\u001b[0m \u001b[1;33m=\u001b[0m \u001b[0mpd\u001b[0m\u001b[1;33m.\u001b[0m\u001b[0mDataFrame\u001b[0m\u001b[1;33m(\u001b[0m\u001b[1;33m{\u001b[0m\u001b[1;34m'Model'\u001b[0m\u001b[1;33m:\u001b[0m \u001b[1;33m[\u001b[0m\u001b[1;33m]\u001b[0m\u001b[1;33m,\u001b[0m \u001b[1;34m'Accuracy'\u001b[0m\u001b[1;33m:\u001b[0m \u001b[1;33m[\u001b[0m\u001b[1;33m]\u001b[0m\u001b[1;33m,\u001b[0m \u001b[1;34m'Bal Acc.'\u001b[0m\u001b[1;33m:\u001b[0m \u001b[1;33m[\u001b[0m\u001b[1;33m]\u001b[0m\u001b[1;33m,\u001b[0m \u001b[1;34m'Time'\u001b[0m\u001b[1;33m:\u001b[0m \u001b[1;33m[\u001b[0m\u001b[1;33m]\u001b[0m\u001b[1;33m}\u001b[0m\u001b[1;33m)\u001b[0m\u001b[1;33m\u001b[0m\u001b[1;33m\u001b[0m\u001b[0m\n\u001b[0m\u001b[0;32m      8\u001b[0m \u001b[1;33m\u001b[0m\u001b[0m\n\u001b[0;32m      9\u001b[0m \"\"\"\n",
      "\u001b[1;31mNameError\u001b[0m: name 'pd' is not defined"
     ]
    }
   ],
   "metadata": {
    "nbgrader": {
     "grade": false,
     "grade_id": "cell-37bf16dc25b43732",
     "locked": false,
     "schema_version": 3,
     "solution": true,
     "task": false
    },
    "scrolled": true,
    "tags": [
     "outputPrepend"
    ]
   }
  },
  {
   "cell_type": "markdown",
   "source": [
    "# Exercise 7.1\n",
    "Train with all data the best model"
   ],
   "metadata": {}
  },
  {
   "cell_type": "code",
   "execution_count": 48,
   "source": [
    "# best_model = tree_classifiers[\"SELECT MY BEST MODEL HERE\"]\r\n",
    "\r\n",
    "# Fit best model with all data\r\n"
   ],
   "outputs": [
    {
     "output_type": "execute_result",
     "data": {
      "text/plain": [
       "Pipeline(steps=[('columntransformer',\n",
       "                 ColumnTransformer(transformers=[('num',\n",
       "                                                  Pipeline(steps=[('imputer',\n",
       "                                                                   SimpleImputer())]),\n",
       "                                                  ['Pclass', 'SibSp', 'Parch',\n",
       "                                                   'Fare', 'Age']),\n",
       "                                                 ('cat',\n",
       "                                                  Pipeline(steps=[('imputer',\n",
       "                                                                   SimpleImputer(fill_value='missing',\n",
       "                                                                                 strategy='constant')),\n",
       "                                                                  ('ordinal',\n",
       "                                                                   OrdinalEncoder(handle_unknown='use_encoded_value',\n",
       "                                                                                  unknown_value=10))]),\n",
       "                                                  ['Sex', 'Embarked',\n",
       "                                                   'Title'])])),\n",
       "                ('gradientboostingclassifier', GradientBoostingClassifier())])"
      ],
      "text/html": [
       "<style>#sk-61b79b43-3cb2-4041-b11f-9e37c8aa1183 {color: black;background-color: white;}#sk-61b79b43-3cb2-4041-b11f-9e37c8aa1183 pre{padding: 0;}#sk-61b79b43-3cb2-4041-b11f-9e37c8aa1183 div.sk-toggleable {background-color: white;}#sk-61b79b43-3cb2-4041-b11f-9e37c8aa1183 label.sk-toggleable__label {cursor: pointer;display: block;width: 100%;margin-bottom: 0;padding: 0.2em 0.3em;box-sizing: border-box;text-align: center;}#sk-61b79b43-3cb2-4041-b11f-9e37c8aa1183 div.sk-toggleable__content {max-height: 0;max-width: 0;overflow: hidden;text-align: left;background-color: #f0f8ff;}#sk-61b79b43-3cb2-4041-b11f-9e37c8aa1183 div.sk-toggleable__content pre {margin: 0.2em;color: black;border-radius: 0.25em;background-color: #f0f8ff;}#sk-61b79b43-3cb2-4041-b11f-9e37c8aa1183 input.sk-toggleable__control:checked~div.sk-toggleable__content {max-height: 200px;max-width: 100%;overflow: auto;}#sk-61b79b43-3cb2-4041-b11f-9e37c8aa1183 div.sk-estimator input.sk-toggleable__control:checked~label.sk-toggleable__label {background-color: #d4ebff;}#sk-61b79b43-3cb2-4041-b11f-9e37c8aa1183 div.sk-label input.sk-toggleable__control:checked~label.sk-toggleable__label {background-color: #d4ebff;}#sk-61b79b43-3cb2-4041-b11f-9e37c8aa1183 input.sk-hidden--visually {border: 0;clip: rect(1px 1px 1px 1px);clip: rect(1px, 1px, 1px, 1px);height: 1px;margin: -1px;overflow: hidden;padding: 0;position: absolute;width: 1px;}#sk-61b79b43-3cb2-4041-b11f-9e37c8aa1183 div.sk-estimator {font-family: monospace;background-color: #f0f8ff;margin: 0.25em 0.25em;border: 1px dotted black;border-radius: 0.25em;box-sizing: border-box;}#sk-61b79b43-3cb2-4041-b11f-9e37c8aa1183 div.sk-estimator:hover {background-color: #d4ebff;}#sk-61b79b43-3cb2-4041-b11f-9e37c8aa1183 div.sk-parallel-item::after {content: \"\";width: 100%;border-bottom: 1px solid gray;flex-grow: 1;}#sk-61b79b43-3cb2-4041-b11f-9e37c8aa1183 div.sk-label:hover label.sk-toggleable__label {background-color: #d4ebff;}#sk-61b79b43-3cb2-4041-b11f-9e37c8aa1183 div.sk-serial::before {content: \"\";position: absolute;border-left: 1px solid gray;box-sizing: border-box;top: 2em;bottom: 0;left: 50%;}#sk-61b79b43-3cb2-4041-b11f-9e37c8aa1183 div.sk-serial {display: flex;flex-direction: column;align-items: center;background-color: white;}#sk-61b79b43-3cb2-4041-b11f-9e37c8aa1183 div.sk-item {z-index: 1;}#sk-61b79b43-3cb2-4041-b11f-9e37c8aa1183 div.sk-parallel {display: flex;align-items: stretch;justify-content: center;background-color: white;}#sk-61b79b43-3cb2-4041-b11f-9e37c8aa1183 div.sk-parallel-item {display: flex;flex-direction: column;position: relative;background-color: white;}#sk-61b79b43-3cb2-4041-b11f-9e37c8aa1183 div.sk-parallel-item:first-child::after {align-self: flex-end;width: 50%;}#sk-61b79b43-3cb2-4041-b11f-9e37c8aa1183 div.sk-parallel-item:last-child::after {align-self: flex-start;width: 50%;}#sk-61b79b43-3cb2-4041-b11f-9e37c8aa1183 div.sk-parallel-item:only-child::after {width: 0;}#sk-61b79b43-3cb2-4041-b11f-9e37c8aa1183 div.sk-dashed-wrapped {border: 1px dashed gray;margin: 0.2em;box-sizing: border-box;padding-bottom: 0.1em;background-color: white;position: relative;}#sk-61b79b43-3cb2-4041-b11f-9e37c8aa1183 div.sk-label label {font-family: monospace;font-weight: bold;background-color: white;display: inline-block;line-height: 1.2em;}#sk-61b79b43-3cb2-4041-b11f-9e37c8aa1183 div.sk-label-container {position: relative;z-index: 2;text-align: center;}#sk-61b79b43-3cb2-4041-b11f-9e37c8aa1183 div.sk-container {display: inline-block;position: relative;}</style><div id=\"sk-61b79b43-3cb2-4041-b11f-9e37c8aa1183\" class\"sk-top-container\"><div class=\"sk-container\"><div class=\"sk-item sk-dashed-wrapped\"><div class=\"sk-label-container\"><div class=\"sk-label sk-toggleable\"><input class=\"sk-toggleable__control sk-hidden--visually\" id=\"b1ec087c-007d-404a-b7ab-bbb74b73acfe\" type=\"checkbox\" ><label class=\"sk-toggleable__label\" for=\"b1ec087c-007d-404a-b7ab-bbb74b73acfe\">Pipeline</label><div class=\"sk-toggleable__content\"><pre>Pipeline(steps=[('columntransformer',\n",
       "                 ColumnTransformer(transformers=[('num',\n",
       "                                                  Pipeline(steps=[('imputer',\n",
       "                                                                   SimpleImputer())]),\n",
       "                                                  ['Pclass', 'SibSp', 'Parch',\n",
       "                                                   'Fare', 'Age']),\n",
       "                                                 ('cat',\n",
       "                                                  Pipeline(steps=[('imputer',\n",
       "                                                                   SimpleImputer(fill_value='missing',\n",
       "                                                                                 strategy='constant')),\n",
       "                                                                  ('ordinal',\n",
       "                                                                   OrdinalEncoder(handle_unknown='use_encoded_value',\n",
       "                                                                                  unknown_value=10))]),\n",
       "                                                  ['Sex', 'Embarked',\n",
       "                                                   'Title'])])),\n",
       "                ('gradientboostingclassifier', GradientBoostingClassifier())])</pre></div></div></div><div class=\"sk-serial\"><div class=\"sk-item sk-dashed-wrapped\"><div class=\"sk-label-container\"><div class=\"sk-label sk-toggleable\"><input class=\"sk-toggleable__control sk-hidden--visually\" id=\"5b5ea099-2751-4ac6-acb4-6a128083e42a\" type=\"checkbox\" ><label class=\"sk-toggleable__label\" for=\"5b5ea099-2751-4ac6-acb4-6a128083e42a\">columntransformer: ColumnTransformer</label><div class=\"sk-toggleable__content\"><pre>ColumnTransformer(transformers=[('num',\n",
       "                                 Pipeline(steps=[('imputer', SimpleImputer())]),\n",
       "                                 ['Pclass', 'SibSp', 'Parch', 'Fare', 'Age']),\n",
       "                                ('cat',\n",
       "                                 Pipeline(steps=[('imputer',\n",
       "                                                  SimpleImputer(fill_value='missing',\n",
       "                                                                strategy='constant')),\n",
       "                                                 ('ordinal',\n",
       "                                                  OrdinalEncoder(handle_unknown='use_encoded_value',\n",
       "                                                                 unknown_value=10))]),\n",
       "                                 ['Sex', 'Embarked', 'Title'])])</pre></div></div></div><div class=\"sk-parallel\"><div class=\"sk-parallel-item\"><div class=\"sk-item\"><div class=\"sk-label-container\"><div class=\"sk-label sk-toggleable\"><input class=\"sk-toggleable__control sk-hidden--visually\" id=\"099effa0-f05c-44be-af2e-36de956f1e76\" type=\"checkbox\" ><label class=\"sk-toggleable__label\" for=\"099effa0-f05c-44be-af2e-36de956f1e76\">num</label><div class=\"sk-toggleable__content\"><pre>['Pclass', 'SibSp', 'Parch', 'Fare', 'Age']</pre></div></div></div><div class=\"sk-serial\"><div class=\"sk-item\"><div class=\"sk-serial\"><div class=\"sk-item\"><div class=\"sk-estimator sk-toggleable\"><input class=\"sk-toggleable__control sk-hidden--visually\" id=\"781be353-462d-409b-ba02-aa7dd93ba474\" type=\"checkbox\" ><label class=\"sk-toggleable__label\" for=\"781be353-462d-409b-ba02-aa7dd93ba474\">SimpleImputer</label><div class=\"sk-toggleable__content\"><pre>SimpleImputer()</pre></div></div></div></div></div></div></div></div><div class=\"sk-parallel-item\"><div class=\"sk-item\"><div class=\"sk-label-container\"><div class=\"sk-label sk-toggleable\"><input class=\"sk-toggleable__control sk-hidden--visually\" id=\"fe07f7e5-6d68-4853-b4ef-094f23b520ec\" type=\"checkbox\" ><label class=\"sk-toggleable__label\" for=\"fe07f7e5-6d68-4853-b4ef-094f23b520ec\">cat</label><div class=\"sk-toggleable__content\"><pre>['Sex', 'Embarked', 'Title']</pre></div></div></div><div class=\"sk-serial\"><div class=\"sk-item\"><div class=\"sk-serial\"><div class=\"sk-item\"><div class=\"sk-estimator sk-toggleable\"><input class=\"sk-toggleable__control sk-hidden--visually\" id=\"a0b21b9d-cf5d-4bed-985c-b60d74581cc5\" type=\"checkbox\" ><label class=\"sk-toggleable__label\" for=\"a0b21b9d-cf5d-4bed-985c-b60d74581cc5\">SimpleImputer</label><div class=\"sk-toggleable__content\"><pre>SimpleImputer(fill_value='missing', strategy='constant')</pre></div></div></div><div class=\"sk-item\"><div class=\"sk-estimator sk-toggleable\"><input class=\"sk-toggleable__control sk-hidden--visually\" id=\"7609413a-4457-4864-ac40-3e806a2b64a5\" type=\"checkbox\" ><label class=\"sk-toggleable__label\" for=\"7609413a-4457-4864-ac40-3e806a2b64a5\">OrdinalEncoder</label><div class=\"sk-toggleable__content\"><pre>OrdinalEncoder(handle_unknown='use_encoded_value', unknown_value=10)</pre></div></div></div></div></div></div></div></div></div></div><div class=\"sk-item\"><div class=\"sk-estimator sk-toggleable\"><input class=\"sk-toggleable__control sk-hidden--visually\" id=\"c68ce10e-1678-4540-bfe4-0a1e1ec85718\" type=\"checkbox\" ><label class=\"sk-toggleable__label\" for=\"c68ce10e-1678-4540-bfe4-0a1e1ec85718\">GradientBoostingClassifier</label><div class=\"sk-toggleable__content\"><pre>GradientBoostingClassifier()</pre></div></div></div></div></div></div></div>"
      ]
     },
     "metadata": {},
     "execution_count": 48
    }
   ],
   "metadata": {
    "colab": {},
    "colab_type": "code",
    "id": "monuuQhHL7B_"
   }
  },
  {
   "cell_type": "markdown",
   "source": [
    "# Exercise 7.2 (2pts)\n",
    "With your best model, generate the predicitions for test data (x_test)"
   ],
   "metadata": {}
  },
  {
   "cell_type": "code",
   "execution_count": 49,
   "source": [
    "# test_pred = # Get the predictions for x_test\r\n"
   ],
   "outputs": [],
   "metadata": {
    "nbgrader": {
     "grade": false,
     "grade_id": "cell-44b93a0dbd4eb6fc",
     "locked": false,
     "schema_version": 3,
     "solution": true,
     "task": false
    }
   }
  },
  {
   "cell_type": "markdown",
   "source": [
    "# Exercise 7.3\n",
    "\n",
    "Submit to kaggle.\n",
    "\n",
    "- You can use the kaggle command line app. Check https://github.com/Kaggle/kaggle-api"
   ],
   "metadata": {}
  },
  {
   "cell_type": "code",
   "execution_count": 51,
   "source": [
    "sub = pd.DataFrame(test_pred, index=x_test.index, columns=[\"Survived\"])\r\n",
    "sub.head()"
   ],
   "outputs": [
    {
     "output_type": "execute_result",
     "data": {
      "text/plain": [
       "             Survived\n",
       "PassengerId          \n",
       "892                 0\n",
       "893                 0\n",
       "894                 0\n",
       "895                 0\n",
       "896                 1"
      ],
      "text/html": [
       "<div>\n",
       "<style scoped>\n",
       "    .dataframe tbody tr th:only-of-type {\n",
       "        vertical-align: middle;\n",
       "    }\n",
       "\n",
       "    .dataframe tbody tr th {\n",
       "        vertical-align: top;\n",
       "    }\n",
       "\n",
       "    .dataframe thead th {\n",
       "        text-align: right;\n",
       "    }\n",
       "</style>\n",
       "<table border=\"1\" class=\"dataframe\">\n",
       "  <thead>\n",
       "    <tr style=\"text-align: right;\">\n",
       "      <th></th>\n",
       "      <th>Survived</th>\n",
       "    </tr>\n",
       "    <tr>\n",
       "      <th>PassengerId</th>\n",
       "      <th></th>\n",
       "    </tr>\n",
       "  </thead>\n",
       "  <tbody>\n",
       "    <tr>\n",
       "      <th>892</th>\n",
       "      <td>0</td>\n",
       "    </tr>\n",
       "    <tr>\n",
       "      <th>893</th>\n",
       "      <td>0</td>\n",
       "    </tr>\n",
       "    <tr>\n",
       "      <th>894</th>\n",
       "      <td>0</td>\n",
       "    </tr>\n",
       "    <tr>\n",
       "      <th>895</th>\n",
       "      <td>0</td>\n",
       "    </tr>\n",
       "    <tr>\n",
       "      <th>896</th>\n",
       "      <td>1</td>\n",
       "    </tr>\n",
       "  </tbody>\n",
       "</table>\n",
       "</div>"
      ]
     },
     "metadata": {},
     "execution_count": 51
    }
   ],
   "metadata": {}
  },
  {
   "cell_type": "code",
   "execution_count": 52,
   "source": [
    "sub.to_csv(\"sub.csv\")"
   ],
   "outputs": [],
   "metadata": {}
  },
  {
   "cell_type": "code",
   "execution_count": 53,
   "source": [
    "!kaggle competitions submit -c titanic -f sub.csv -m \"My submission message\""
   ],
   "outputs": [
    {
     "output_type": "stream",
     "name": "stderr",
     "text": [
      "'kaggle' is not recognized as an internal or external command,\n",
      "operable program or batch file.\n"
     ]
    }
   ],
   "metadata": {}
  }
 ],
 "metadata": {
  "anaconda-cloud": {},
  "celltoolbar": "Create Assignment",
  "colab": {
   "collapsed_sections": [],
   "name": "Titanic LogReg.ipynb",
   "provenance": []
  },
  "kernelspec": {
   "name": "python3",
   "display_name": "Python 3.8.10 64-bit"
  },
  "language_info": {
   "codemirror_mode": {
    "name": "ipython",
    "version": 3
   },
   "file_extension": ".py",
   "mimetype": "text/x-python",
   "name": "python",
   "nbconvert_exporter": "python",
   "pygments_lexer": "ipython3",
   "version": "3.8.10"
  },
  "name": "seminar13_optional_practice_trees_titanic.ipynb",
  "interpreter": {
   "hash": "39f09f95418d5e20a22cd80830927c706683f81e2f5e3773e1b700995dc38a17"
  }
 },
 "nbformat": 4,
 "nbformat_minor": 4
}